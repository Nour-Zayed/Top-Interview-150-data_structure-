{
 "cells": [
  {
   "cell_type": "code",
   "execution_count": 8,
   "id": "f6bb81cd-9bcd-443c-b495-1716ba7a0633",
   "metadata": {},
   "outputs": [
    {
     "name": "stdin",
     "output_type": "stream",
     "text": [
      " 2,2,1,1,1,2,2\n"
     ]
    },
    {
     "name": "stdout",
     "output_type": "stream",
     "text": [
      "2\n"
     ]
    }
   ],
   "source": [
    "class Solution(object):\n",
    "    def majorityElement(self, nums):\n",
    "        candidate = None\n",
    "        count=0\n",
    "    \n",
    "        for num in nums:\n",
    "            if count == 0:\n",
    "                 candidate = num\n",
    "            count +=(1 if num == candidate else -1)\n",
    "        return candidate\n",
    "        "
   ]
  },
  {
   "cell_type": "code",
   "execution_count": null,
   "id": "ea0c874a-3083-42f9-afb1-7468ded4f38e",
   "metadata": {},
   "outputs": [],
   "source": []
  }
 ],
 "metadata": {
  "kernelspec": {
   "display_name": "Python 3 (ipykernel)",
   "language": "python",
   "name": "python3"
  },
  "language_info": {
   "codemirror_mode": {
    "name": "ipython",
    "version": 3
   },
   "file_extension": ".py",
   "mimetype": "text/x-python",
   "name": "python",
   "nbconvert_exporter": "python",
   "pygments_lexer": "ipython3",
   "version": "3.11.5"
  }
 },
 "nbformat": 4,
 "nbformat_minor": 5
}
